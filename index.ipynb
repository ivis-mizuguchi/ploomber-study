{
 "cells": [
  {
   "cell_type": "code",
   "execution_count": null,
   "id": "6b5793cf-f9ce-4e3b-b0d5-d3ee6007c329",
   "metadata": {},
   "outputs": [],
   "source": [
    "%%sh\n",
    "cd example\n",
    "ploomber build"
   ]
  },
  {
   "cell_type": "code",
   "execution_count": null,
   "id": "f298c075-8357-4d75-b29b-fe020a3c6dba",
   "metadata": {},
   "outputs": [],
   "source": [
    "%%sh\n",
    "cd example\n",
    "ploomber status"
   ]
  },
  {
   "cell_type": "markdown",
   "id": "bc0252bd-5fa9-43b8-8434-ea76c6239402",
   "metadata": {},
   "source": [
    "## pipeline.pmg作成"
   ]
  },
  {
   "cell_type": "code",
   "execution_count": null,
   "id": "a0e48995-6c5a-4261-b2b8-f1a180e63fe2",
   "metadata": {},
   "outputs": [],
   "source": [
    "%%sh\n",
    "cd example\n",
    "ploomber plot"
   ]
  },
  {
   "cell_type": "code",
   "execution_count": null,
   "id": "4965a17e-7c0a-42be-b878-b9edb40a67e8",
   "metadata": {},
   "outputs": [],
   "source": []
  }
 ],
 "metadata": {
  "kernelspec": {
   "display_name": "Python 3 (ipykernel)",
   "language": "python",
   "name": "python3"
  },
  "language_info": {
   "codemirror_mode": {
    "name": "ipython",
    "version": 3
   },
   "file_extension": ".py",
   "mimetype": "text/x-python",
   "name": "python",
   "nbconvert_exporter": "python",
   "pygments_lexer": "ipython3",
   "version": "3.7.10"
  }
 },
 "nbformat": 4,
 "nbformat_minor": 5
}
