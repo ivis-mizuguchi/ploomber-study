{
 "cells": [
  {
   "cell_type": "code",
   "execution_count": 2,
   "id": "6b5793cf-f9ce-4e3b-b0d5-d3ee6007c329",
   "metadata": {},
   "outputs": [
    {
     "name": "stdout",
     "output_type": "stream",
     "text": [
      "name           Ran?      Elapsed (s)    Percentage\n",
      "-------------  ------  -------------  ------------\n",
      "get            True          3.60899       17.4591\n",
      "feature-sepal  True          2.41686       11.692\n",
      "feature-petal  True          3.27862       15.8609\n",
      "fit            True         11.3666        54.988\n"
     ]
    },
    {
     "name": "stderr",
     "output_type": "stream",
     "text": [
      "/srv/conda/envs/notebook/lib/python3.7/site-packages/ploomber/dag/dag.py:390: UserWarning: \n",
      "=========================== DAG render with warnings ===========================\n",
      "- NotebookRunner: get -> MetaProduct({'data': File('output/get.csv'), 'nb': File('output/get.ipynb')}) -\n",
      "--------------------- /home/jovyan/example/scripts/get.py ----------------------\n",
      ":1:1 'pandas as pd' imported but unused\n",
      "=============================== Summary (1 task) ===============================\n",
      "NotebookRunner: get -> MetaProduct({'data': File('output/get.csv'), 'nb': File('output/get.ipynb')})\n",
      "=========================== DAG render with warnings ===========================\n",
      "\n",
      "  warnings.warn(str(warnings_))\n",
      "Building task 'get':   0%|          | 0/4 [00:00<?, ?it/s]\n",
      "Executing:   0%|          | 0/11 [00:00<?, ?cell/s]\u001b[A\n",
      "Executing:   9%|▉         | 1/11 [00:01<00:13,  1.39s/cell]\u001b[A\n",
      "Executing:  18%|█▊        | 2/11 [00:02<00:10,  1.17s/cell]\u001b[A\n",
      "Executing:  27%|██▋       | 3/11 [00:02<00:05,  1.47cell/s]\u001b[A\n",
      "Executing:  36%|███▋      | 4/11 [00:02<00:03,  2.21cell/s]\u001b[A\n",
      "Executing:  55%|█████▍    | 6/11 [00:02<00:01,  3.86cell/s]\u001b[A\n",
      "Executing:  64%|██████▎   | 7/11 [00:02<00:00,  4.61cell/s]\u001b[A\n",
      "Executing:  82%|████████▏ | 9/11 [00:03<00:00,  6.43cell/s]\u001b[A\n",
      "Executing: 100%|██████████| 11/11 [00:03<00:00,  3.14cell/s]\u001b[A\n",
      "Building task 'feature-sepal':  25%|██▌       | 1/4 [00:03<00:10,  3.61s/it]\n",
      "Executing:   0%|          | 0/9 [00:00<?, ?cell/s]\u001b[A\n",
      "Executing:  11%|█         | 1/9 [00:01<00:09,  1.19s/cell]\u001b[A\n",
      "Executing:  22%|██▏       | 2/9 [00:01<00:05,  1.29cell/s]\u001b[A\n",
      "Executing:  44%|████▍     | 4/9 [00:01<00:01,  3.08cell/s]\u001b[A\n",
      "Executing:  67%|██████▋   | 6/9 [00:01<00:00,  4.92cell/s]\u001b[A\n",
      "Executing: 100%|██████████| 9/9 [00:02<00:00,  3.85cell/s]\u001b[A\n",
      "Building task 'feature-petal':  50%|█████     | 2/4 [00:06<00:05,  2.91s/it]\n",
      "Executing:   0%|          | 0/9 [00:00<?, ?cell/s]\u001b[A\n",
      "Executing:  11%|█         | 1/9 [00:01<00:11,  1.44s/cell]\u001b[A\n",
      "Executing:  22%|██▏       | 2/9 [00:02<00:06,  1.05cell/s]\u001b[A\n",
      "Executing:  33%|███▎      | 3/9 [00:02<00:03,  1.74cell/s]\u001b[A\n",
      "Executing:  44%|████▍     | 4/9 [00:02<00:01,  2.57cell/s]\u001b[A\n",
      "Executing:  67%|██████▋   | 6/9 [00:02<00:00,  4.24cell/s]\u001b[A\n",
      "Executing: 100%|██████████| 9/9 [00:03<00:00,  2.83cell/s]\u001b[A\n",
      "Building task 'fit':  75%|███████▌  | 3/4 [00:09<00:03,  3.08s/it]          \n",
      "Executing:   0%|          | 0/16 [00:00<?, ?cell/s]\u001b[A\n",
      "Executing:   6%|▋         | 1/16 [00:01<00:21,  1.46s/cell]\u001b[A\n",
      "Executing:  12%|█▎        | 2/16 [00:01<00:09,  1.42cell/s]\u001b[A\n",
      "Executing:  19%|█▉        | 3/16 [00:04<00:22,  1.73s/cell]\u001b[A\n",
      "Executing:  25%|██▌       | 4/16 [00:04<00:13,  1.12s/cell]\u001b[A\n",
      "Executing:  31%|███▏      | 5/16 [00:04<00:08,  1.30cell/s]\u001b[A\n",
      "Executing:  38%|███▊      | 6/16 [00:05<00:05,  1.80cell/s]\u001b[A\n",
      "Executing:  44%|████▍     | 7/16 [00:05<00:03,  2.40cell/s]\u001b[A\n",
      "Executing:  50%|█████     | 8/16 [00:05<00:02,  3.13cell/s]\u001b[A\n",
      "Executing:  62%|██████▎   | 10/16 [00:05<00:01,  4.62cell/s]\u001b[A\n",
      "Executing:  69%|██████▉   | 11/16 [00:05<00:00,  5.08cell/s]\u001b[A\n",
      "Executing:  75%|███████▌  | 12/16 [00:05<00:00,  5.23cell/s]\u001b[A\n",
      "Executing:  81%|████████▏ | 13/16 [00:06<00:00,  5.11cell/s]\u001b[A\n",
      "Executing:  88%|████████▊ | 14/16 [00:06<00:00,  5.53cell/s]\u001b[A\n",
      "Executing:  94%|█████████▍| 15/16 [00:07<00:00,  2.09cell/s]\u001b[A\n",
      "Executing: 100%|██████████| 16/16 [00:11<00:00,  1.44cell/s]\u001b[A\n",
      "Building task 'fit': 100%|██████████| 4/4 [00:20<00:00,  5.17s/it]\n"
     ]
    }
   ],
   "source": [
    "%%sh\n",
    "cd example\n",
    "ploomber build"
   ]
  },
  {
   "cell_type": "code",
   "execution_count": 4,
   "id": "f298c075-8357-4d75-b29b-fe020a3c6dba",
   "metadata": {},
   "outputs": [
    {
     "name": "stdout",
     "output_type": "stream",
     "text": [
      "name      Last run    Outdated?    Product      Doc        Location\n",
      "                                                (short)\n",
      "--------  ----------  -----------  -----------  ---------  -----------\n",
      "get       2 minutes   False        MetaProduct  Get raw    /home/jovya\n",
      "          ago (Nov                 ({'data': F  data       n/example/s\n",
      "          02, 21 at                ile('output             cripts/get.\n",
      "          02:26)                   /get.csv'),             py\n",
      "                                   'nb': File(\n",
      "                                   'output/get\n",
      "                                   .ipynb')})\n",
      "feature-  2 minutes   False        MetaProduct  Generates  /home/jovya\n",
      "sepal     ago (Nov                 ({'data': F  sepal      n/example/s\n",
      "          02, 21 at                ile('output  features.  cripts/feat\n",
      "          02:26)                   /...re-sepa             ure-\n",
      "                                   l.csv'),                sepal.py\n",
      "                                   'nb': File(\n",
      "                                   'output/...\n",
      "                                   -sepal.ipyn\n",
      "                                   b')})\n",
      "feature-  2 minutes   False        MetaProduct  Generates  /home/jovya\n",
      "petal     ago (Nov                 ({'data': F  petal      n/example/s\n",
      "          02, 21 at                ile('output  features.  cripts/feat\n",
      "          02:26)                   /...re-peta             ure-\n",
      "                                   l.csv'),                petal.py\n",
      "                                   'nb': File(\n",
      "                                   'output/...\n",
      "                                   -petal.ipyn\n",
      "                                   b')})\n",
      "fit       2 minutes   False        MetaProduct  Train a    /home/jovya\n",
      "          ago (Nov                 ({'model':   model.     n/example/s\n",
      "          02, 21 at                File('outpu             cripts/fit.\n",
      "          02:26)                   t/model.pic             py\n",
      "                                   kle'),\n",
      "                                   'nb': File(\n",
      "                                   'output/fit\n",
      "                                   .ipynb')})\n"
     ]
    },
    {
     "name": "stderr",
     "output_type": "stream",
     "text": [
      "100%|██████████| 4/4 [00:00<00:00, 9223.32it/s]\n",
      "/srv/conda/envs/notebook/lib/python3.7/site-packages/ploomber/dag/dag.py:390: UserWarning: \n",
      "=========================== DAG render with warnings ===========================\n",
      "- NotebookRunner: get -> MetaProduct({'data': File('output/get.csv'), 'nb': File('output/get.ipynb')}) -\n",
      "--------------------- /home/jovyan/example/scripts/get.py ----------------------\n",
      ":1:1 'pandas as pd' imported but unused\n",
      "=============================== Summary (1 task) ===============================\n",
      "NotebookRunner: get -> MetaProduct({'data': File('output/get.csv'), 'nb': File('output/get.ipynb')})\n",
      "=========================== DAG render with warnings ===========================\n",
      "\n",
      "  warnings.warn(str(warnings_))\n"
     ]
    }
   ],
   "source": [
    "%%sh\n",
    "cd example\n",
    "ploomber status"
   ]
  },
  {
   "cell_type": "markdown",
   "id": "bc0252bd-5fa9-43b8-8434-ea76c6239402",
   "metadata": {},
   "source": [
    "## pipeline.pmg作成"
   ]
  },
  {
   "cell_type": "code",
   "execution_count": 6,
   "id": "a0e48995-6c5a-4261-b2b8-f1a180e63fe2",
   "metadata": {},
   "outputs": [
    {
     "name": "stderr",
     "output_type": "stream",
     "text": [
      "Traceback (most recent call last):\n",
      "  File \"/srv/conda/envs/notebook/lib/python3.7/site-packages/ploomber/cli/io.py\", line 20, in wrapper\n",
      "    fn(**kwargs)\n",
      "  File \"/srv/conda/envs/notebook/lib/python3.7/site-packages/ploomber/cli/plot.py\", line 23, in main\n",
      "    dag.plot(output=output)\n",
      "  File \"/srv/conda/envs/notebook/lib/python3.7/site-packages/ploomber/util/util.py\", line 69, in wrapper\n",
      "    raise ImportError(error_msg)\n",
      "ImportError: pygraphviz is required to use plot. Install it by running \"pip install pygraphviz\". Beware that \"graphviz\" (which is not pip-installable) is a dependency of \"pygraphviz\", the easiest way to install both is through conda \"conda install pygraphviz\", for more options see: https://graphviz.org/\n"
     ]
    },
    {
     "ename": "CalledProcessError",
     "evalue": "Command 'b'cd example\\nploomber plot\\n'' returned non-zero exit status 1.",
     "output_type": "error",
     "traceback": [
      "\u001b[0;31m---------------------------------------------------------------------------\u001b[0m",
      "\u001b[0;31mCalledProcessError\u001b[0m                        Traceback (most recent call last)",
      "\u001b[0;32m/tmp/ipykernel_79/1106546918.py\u001b[0m in \u001b[0;36m<module>\u001b[0;34m\u001b[0m\n\u001b[0;32m----> 1\u001b[0;31m \u001b[0mget_ipython\u001b[0m\u001b[0;34m(\u001b[0m\u001b[0;34m)\u001b[0m\u001b[0;34m.\u001b[0m\u001b[0mrun_cell_magic\u001b[0m\u001b[0;34m(\u001b[0m\u001b[0;34m'sh'\u001b[0m\u001b[0;34m,\u001b[0m \u001b[0;34m''\u001b[0m\u001b[0;34m,\u001b[0m \u001b[0;34m'cd example\\nploomber plot\\n'\u001b[0m\u001b[0;34m)\u001b[0m\u001b[0;34m\u001b[0m\u001b[0;34m\u001b[0m\u001b[0m\n\u001b[0m",
      "\u001b[0;32m/srv/conda/envs/notebook/lib/python3.7/site-packages/IPython/core/interactiveshell.py\u001b[0m in \u001b[0;36mrun_cell_magic\u001b[0;34m(self, magic_name, line, cell)\u001b[0m\n\u001b[1;32m   2404\u001b[0m             \u001b[0;32mwith\u001b[0m \u001b[0mself\u001b[0m\u001b[0;34m.\u001b[0m\u001b[0mbuiltin_trap\u001b[0m\u001b[0;34m:\u001b[0m\u001b[0;34m\u001b[0m\u001b[0;34m\u001b[0m\u001b[0m\n\u001b[1;32m   2405\u001b[0m                 \u001b[0margs\u001b[0m \u001b[0;34m=\u001b[0m \u001b[0;34m(\u001b[0m\u001b[0mmagic_arg_s\u001b[0m\u001b[0;34m,\u001b[0m \u001b[0mcell\u001b[0m\u001b[0;34m)\u001b[0m\u001b[0;34m\u001b[0m\u001b[0;34m\u001b[0m\u001b[0m\n\u001b[0;32m-> 2406\u001b[0;31m                 \u001b[0mresult\u001b[0m \u001b[0;34m=\u001b[0m \u001b[0mfn\u001b[0m\u001b[0;34m(\u001b[0m\u001b[0;34m*\u001b[0m\u001b[0margs\u001b[0m\u001b[0;34m,\u001b[0m \u001b[0;34m**\u001b[0m\u001b[0mkwargs\u001b[0m\u001b[0;34m)\u001b[0m\u001b[0;34m\u001b[0m\u001b[0;34m\u001b[0m\u001b[0m\n\u001b[0m\u001b[1;32m   2407\u001b[0m             \u001b[0;32mreturn\u001b[0m \u001b[0mresult\u001b[0m\u001b[0;34m\u001b[0m\u001b[0;34m\u001b[0m\u001b[0m\n\u001b[1;32m   2408\u001b[0m \u001b[0;34m\u001b[0m\u001b[0m\n",
      "\u001b[0;32m/srv/conda/envs/notebook/lib/python3.7/site-packages/IPython/core/magics/script.py\u001b[0m in \u001b[0;36mnamed_script_magic\u001b[0;34m(line, cell)\u001b[0m\n\u001b[1;32m    140\u001b[0m             \u001b[0;32melse\u001b[0m\u001b[0;34m:\u001b[0m\u001b[0;34m\u001b[0m\u001b[0;34m\u001b[0m\u001b[0m\n\u001b[1;32m    141\u001b[0m                 \u001b[0mline\u001b[0m \u001b[0;34m=\u001b[0m \u001b[0mscript\u001b[0m\u001b[0;34m\u001b[0m\u001b[0;34m\u001b[0m\u001b[0m\n\u001b[0;32m--> 142\u001b[0;31m             \u001b[0;32mreturn\u001b[0m \u001b[0mself\u001b[0m\u001b[0;34m.\u001b[0m\u001b[0mshebang\u001b[0m\u001b[0;34m(\u001b[0m\u001b[0mline\u001b[0m\u001b[0;34m,\u001b[0m \u001b[0mcell\u001b[0m\u001b[0;34m)\u001b[0m\u001b[0;34m\u001b[0m\u001b[0;34m\u001b[0m\u001b[0m\n\u001b[0m\u001b[1;32m    143\u001b[0m \u001b[0;34m\u001b[0m\u001b[0m\n\u001b[1;32m    144\u001b[0m         \u001b[0;31m# write a basic docstring:\u001b[0m\u001b[0;34m\u001b[0m\u001b[0;34m\u001b[0m\u001b[0;34m\u001b[0m\u001b[0m\n",
      "\u001b[0;32m/srv/conda/envs/notebook/lib/python3.7/site-packages/decorator.py\u001b[0m in \u001b[0;36mfun\u001b[0;34m(*args, **kw)\u001b[0m\n\u001b[1;32m    230\u001b[0m             \u001b[0;32mif\u001b[0m \u001b[0;32mnot\u001b[0m \u001b[0mkwsyntax\u001b[0m\u001b[0;34m:\u001b[0m\u001b[0;34m\u001b[0m\u001b[0;34m\u001b[0m\u001b[0m\n\u001b[1;32m    231\u001b[0m                 \u001b[0margs\u001b[0m\u001b[0;34m,\u001b[0m \u001b[0mkw\u001b[0m \u001b[0;34m=\u001b[0m \u001b[0mfix\u001b[0m\u001b[0;34m(\u001b[0m\u001b[0margs\u001b[0m\u001b[0;34m,\u001b[0m \u001b[0mkw\u001b[0m\u001b[0;34m,\u001b[0m \u001b[0msig\u001b[0m\u001b[0;34m)\u001b[0m\u001b[0;34m\u001b[0m\u001b[0;34m\u001b[0m\u001b[0m\n\u001b[0;32m--> 232\u001b[0;31m             \u001b[0;32mreturn\u001b[0m \u001b[0mcaller\u001b[0m\u001b[0;34m(\u001b[0m\u001b[0mfunc\u001b[0m\u001b[0;34m,\u001b[0m \u001b[0;34m*\u001b[0m\u001b[0;34m(\u001b[0m\u001b[0mextras\u001b[0m \u001b[0;34m+\u001b[0m \u001b[0margs\u001b[0m\u001b[0;34m)\u001b[0m\u001b[0;34m,\u001b[0m \u001b[0;34m**\u001b[0m\u001b[0mkw\u001b[0m\u001b[0;34m)\u001b[0m\u001b[0;34m\u001b[0m\u001b[0;34m\u001b[0m\u001b[0m\n\u001b[0m\u001b[1;32m    233\u001b[0m     \u001b[0mfun\u001b[0m\u001b[0;34m.\u001b[0m\u001b[0m__name__\u001b[0m \u001b[0;34m=\u001b[0m \u001b[0mfunc\u001b[0m\u001b[0;34m.\u001b[0m\u001b[0m__name__\u001b[0m\u001b[0;34m\u001b[0m\u001b[0;34m\u001b[0m\u001b[0m\n\u001b[1;32m    234\u001b[0m     \u001b[0mfun\u001b[0m\u001b[0;34m.\u001b[0m\u001b[0m__doc__\u001b[0m \u001b[0;34m=\u001b[0m \u001b[0mfunc\u001b[0m\u001b[0;34m.\u001b[0m\u001b[0m__doc__\u001b[0m\u001b[0;34m\u001b[0m\u001b[0;34m\u001b[0m\u001b[0m\n",
      "\u001b[0;32m/srv/conda/envs/notebook/lib/python3.7/site-packages/IPython/core/magic.py\u001b[0m in \u001b[0;36m<lambda>\u001b[0;34m(f, *a, **k)\u001b[0m\n\u001b[1;32m    185\u001b[0m     \u001b[0;31m# but it's overkill for just that one bit of state.\u001b[0m\u001b[0;34m\u001b[0m\u001b[0;34m\u001b[0m\u001b[0;34m\u001b[0m\u001b[0m\n\u001b[1;32m    186\u001b[0m     \u001b[0;32mdef\u001b[0m \u001b[0mmagic_deco\u001b[0m\u001b[0;34m(\u001b[0m\u001b[0marg\u001b[0m\u001b[0;34m)\u001b[0m\u001b[0;34m:\u001b[0m\u001b[0;34m\u001b[0m\u001b[0;34m\u001b[0m\u001b[0m\n\u001b[0;32m--> 187\u001b[0;31m         \u001b[0mcall\u001b[0m \u001b[0;34m=\u001b[0m \u001b[0;32mlambda\u001b[0m \u001b[0mf\u001b[0m\u001b[0;34m,\u001b[0m \u001b[0;34m*\u001b[0m\u001b[0ma\u001b[0m\u001b[0;34m,\u001b[0m \u001b[0;34m**\u001b[0m\u001b[0mk\u001b[0m\u001b[0;34m:\u001b[0m \u001b[0mf\u001b[0m\u001b[0;34m(\u001b[0m\u001b[0;34m*\u001b[0m\u001b[0ma\u001b[0m\u001b[0;34m,\u001b[0m \u001b[0;34m**\u001b[0m\u001b[0mk\u001b[0m\u001b[0;34m)\u001b[0m\u001b[0;34m\u001b[0m\u001b[0;34m\u001b[0m\u001b[0m\n\u001b[0m\u001b[1;32m    188\u001b[0m \u001b[0;34m\u001b[0m\u001b[0m\n\u001b[1;32m    189\u001b[0m         \u001b[0;32mif\u001b[0m \u001b[0mcallable\u001b[0m\u001b[0;34m(\u001b[0m\u001b[0marg\u001b[0m\u001b[0;34m)\u001b[0m\u001b[0;34m:\u001b[0m\u001b[0;34m\u001b[0m\u001b[0;34m\u001b[0m\u001b[0m\n",
      "\u001b[0;32m/srv/conda/envs/notebook/lib/python3.7/site-packages/IPython/core/magics/script.py\u001b[0m in \u001b[0;36mshebang\u001b[0;34m(self, line, cell)\u001b[0m\n\u001b[1;32m    243\u001b[0m             \u001b[0msys\u001b[0m\u001b[0;34m.\u001b[0m\u001b[0mstderr\u001b[0m\u001b[0;34m.\u001b[0m\u001b[0mflush\u001b[0m\u001b[0;34m(\u001b[0m\u001b[0;34m)\u001b[0m\u001b[0;34m\u001b[0m\u001b[0;34m\u001b[0m\u001b[0m\n\u001b[1;32m    244\u001b[0m         \u001b[0;32mif\u001b[0m \u001b[0margs\u001b[0m\u001b[0;34m.\u001b[0m\u001b[0mraise_error\u001b[0m \u001b[0;32mand\u001b[0m \u001b[0mp\u001b[0m\u001b[0;34m.\u001b[0m\u001b[0mreturncode\u001b[0m\u001b[0;34m!=\u001b[0m\u001b[0;36m0\u001b[0m\u001b[0;34m:\u001b[0m\u001b[0;34m\u001b[0m\u001b[0;34m\u001b[0m\u001b[0m\n\u001b[0;32m--> 245\u001b[0;31m             \u001b[0;32mraise\u001b[0m \u001b[0mCalledProcessError\u001b[0m\u001b[0;34m(\u001b[0m\u001b[0mp\u001b[0m\u001b[0;34m.\u001b[0m\u001b[0mreturncode\u001b[0m\u001b[0;34m,\u001b[0m \u001b[0mcell\u001b[0m\u001b[0;34m,\u001b[0m \u001b[0moutput\u001b[0m\u001b[0;34m=\u001b[0m\u001b[0mout\u001b[0m\u001b[0;34m,\u001b[0m \u001b[0mstderr\u001b[0m\u001b[0;34m=\u001b[0m\u001b[0merr\u001b[0m\u001b[0;34m)\u001b[0m\u001b[0;34m\u001b[0m\u001b[0;34m\u001b[0m\u001b[0m\n\u001b[0m\u001b[1;32m    246\u001b[0m \u001b[0;34m\u001b[0m\u001b[0m\n\u001b[1;32m    247\u001b[0m     \u001b[0;32mdef\u001b[0m \u001b[0m_run_script\u001b[0m\u001b[0;34m(\u001b[0m\u001b[0mself\u001b[0m\u001b[0;34m,\u001b[0m \u001b[0mp\u001b[0m\u001b[0;34m,\u001b[0m \u001b[0mcell\u001b[0m\u001b[0;34m,\u001b[0m \u001b[0mto_close\u001b[0m\u001b[0;34m)\u001b[0m\u001b[0;34m:\u001b[0m\u001b[0;34m\u001b[0m\u001b[0;34m\u001b[0m\u001b[0m\n",
      "\u001b[0;31mCalledProcessError\u001b[0m: Command 'b'cd example\\nploomber plot\\n'' returned non-zero exit status 1."
     ]
    }
   ],
   "source": [
    "%%sh\n",
    "cd example\n",
    "ploomber plot"
   ]
  },
  {
   "cell_type": "code",
   "execution_count": null,
   "id": "4965a17e-7c0a-42be-b878-b9edb40a67e8",
   "metadata": {},
   "outputs": [],
   "source": []
  }
 ],
 "metadata": {
  "kernelspec": {
   "display_name": "Python 3 (ipykernel)",
   "language": "python",
   "name": "python3"
  },
  "language_info": {
   "codemirror_mode": {
    "name": "ipython",
    "version": 3
   },
   "file_extension": ".py",
   "mimetype": "text/x-python",
   "name": "python",
   "nbconvert_exporter": "python",
   "pygments_lexer": "ipython3",
   "version": "3.7.10"
  }
 },
 "nbformat": 4,
 "nbformat_minor": 5
}
